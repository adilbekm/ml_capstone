{
 "cells": [
  {
   "cell_type": "markdown",
   "metadata": {},
   "source": [
    "## Model 1: Basic CNN from scratch ##"
   ]
  },
  {
   "cell_type": "markdown",
   "metadata": {},
   "source": [
    "In this notebook, I implement a basic CNN from scratch. \n",
    "\n",
    "Predictions made using this model scored 0.281 by Kaggle, ranking 1011 out of 1335 (76th percentile) (submitted on Jan 18, 2019).\n",
    "\n",
    "Hardware used: CPU: i5 2.10GHz x 6, GPU: none: RAM: 16Gb + 32Gb virtual"
   ]
  },
  {
   "cell_type": "code",
   "execution_count": 1,
   "metadata": {},
   "outputs": [
    {
     "name": "stderr",
     "output_type": "stream",
     "text": [
      "Using TensorFlow backend.\n"
     ]
    }
   ],
   "source": [
    "# load libraries\n",
    "import os\n",
    "import random\n",
    "import numpy as np\n",
    "import pandas as pd\n",
    "# import matplotlib.pyplot as plt\n",
    "# from PIL import Image\n",
    "from keras.preprocessing import image\n",
    "# from keras.preprocessing.image import ImageDataGenerator\n",
    "from keras.models import Sequential\n",
    "from keras.layers import Activation, Conv2D, AveragePooling2D, MaxPooling2D, BatchNormalization, GlobalAveragePooling2D, Flatten, Dropout, Dense\n",
    "from keras.callbacks import ModelCheckpoint\n",
    "from keras.applications.imagenet_utils import preprocess_input\n",
    "from sklearn.preprocessing import LabelEncoder\n",
    "from sklearn.preprocessing import OneHotEncoder\n",
    "import subprocess"
   ]
  },
  {
   "cell_type": "code",
   "execution_count": 2,
   "metadata": {},
   "outputs": [
    {
     "name": "stdout",
     "output_type": "stream",
     "text": [
      "           Image         Id\n",
      "0  0000e88ab.jpg  w_f48451c\n",
      "1  0001f9222.jpg  w_c3d896a\n",
      "2  00029d126.jpg  w_20df2c5\n",
      "3  00050a15a.jpg  new_whale\n",
      "4  0005c1ef8.jpg  new_whale\n",
      "25361\n"
     ]
    }
   ],
   "source": [
    "# load train files and labels into dataframe\n",
    "traindf_all = pd.read_csv('train.csv')\n",
    "print(traindf_all.head())\n",
    "print(len(traindf_all))"
   ]
  },
  {
   "cell_type": "code",
   "execution_count": 3,
   "metadata": {},
   "outputs": [
    {
     "name": "stdout",
     "output_type": "stream",
     "text": [
      "15697\n"
     ]
    }
   ],
   "source": [
    "# remove unlabeled images\n",
    "traindf = traindf_all.drop(traindf_all[traindf_all.Id == 'new_whale'].index.tolist())\n",
    "traindf.reset_index(drop=True, inplace=True)\n",
    "del traindf_all\n",
    "print(len(traindf))"
   ]
  },
  {
   "cell_type": "code",
   "execution_count": 4,
   "metadata": {
    "scrolled": true
   },
   "outputs": [
    {
     "name": "stdout",
     "output_type": "stream",
     "text": [
      "          Id  Count\n",
      "0  w_f48451c     14\n",
      "1  w_c3d896a      4\n",
      "2  w_20df2c5      4\n",
      "5004\n"
     ]
    }
   ],
   "source": [
    "# create dataframe with distinct ids and count of images per id\n",
    "ids = pd.DataFrame(traindf['Id'].unique(), columns=['Id'])\n",
    "ids['Count'] = 0\n",
    "for r in ids.itertuples():\n",
    "    id = r.Id\n",
    "    cnt = len(traindf[traindf['Id'] == id])\n",
    "    ind = ids[ids['Id'] == id].index.values[0]\n",
    "    ids.loc[ind, 'Count'] = cnt\n",
    "print(ids.head(3))\n",
    "print(len(ids))"
   ]
  },
  {
   "cell_type": "code",
   "execution_count": null,
   "metadata": {},
   "outputs": [],
   "source": [
    "# function to convert images to tensors\n",
    "def imgs_to_tensors(df, path, size=(100, 100)):\n",
    "    '''\n",
    "    df: dataframe listing image file names in column \"Image\"\n",
    "    path: directory where image files are located (don't include /)\n",
    "    size: target height and width to resize images to\n",
    "    '''\n",
    "    HEIGHT, WIDTH = size\n",
    "    LEN=df.shape[0]   \n",
    "    tensors = np.zeros((LEN, HEIGHT, WIDTH, 3))\n",
    "    i = 0\n",
    "    for im_name in df.Image:\n",
    "        if (i%1000==0):\n",
    "            print('Processing image {}: {}'.format(i, im_name))\n",
    "        im_path = path + '/' + im_name\n",
    "        # load image to PIL format\n",
    "        im = image.load_img(path=im_path, \n",
    "                            grayscale=False, \n",
    "                            color_mode='rgb', \n",
    "                            target_size=(HEIGHT, WIDTH), \n",
    "                            interpolation='nearest')\n",
    "        # convert to numpy array/tensor with shape (HEIGHT, WIDTH, 3)\n",
    "        x = image.img_to_array(im)\n",
    "        x = preprocess_input(x) # important line! I am not sure why\n",
    "        tensors[i] = x\n",
    "        i += 1   \n",
    "    return tensors"
   ]
  },
  {
   "cell_type": "code",
   "execution_count": null,
   "metadata": {},
   "outputs": [],
   "source": [
    "# create tensors and save on disk\n",
    "# (divide by 255 to normalize pixel values)\n",
    "tensors_train = imgs_to_tensors(df=traindf, path='train')/255\n",
    "np.save('tensors/model_1/tensors_train', tensors_train)\n",
    "print(tensors_train.shape)"
   ]
  },
  {
   "cell_type": "code",
   "execution_count": 14,
   "metadata": {},
   "outputs": [],
   "source": [
    "labels = np.array(ids.Id)"
   ]
  },
  {
   "cell_type": "code",
   "execution_count": null,
   "metadata": {},
   "outputs": [],
   "source": [
    "# create labels and save on disk\n",
    "tensors_train_labels = np.zeros((len(traindf), len(ids)))\n",
    "i = 0\n",
    "for id in traindf.Id:\n",
    "    j = np.argwhere(labels==id)[0, 0]\n",
    "    tensors_train_labels[i, j] = 1\n",
    "    i += 1\n",
    "np.save('tensors/model_1/tensors_train_labels', tensors_train_labels)\n",
    "print(tensors_train_labels.shape)"
   ]
  },
  {
   "cell_type": "code",
   "execution_count": 5,
   "metadata": {},
   "outputs": [],
   "source": [
    "# load previously saved tensors and labels, if any\n",
    "tensors_train = np.load('tensors/model_1/tensors_train.npy')\n",
    "tensors_train_labels = np.load('tensors/model_1/tensors_train_labels.npy')"
   ]
  },
  {
   "cell_type": "code",
   "execution_count": 6,
   "metadata": {},
   "outputs": [
    {
     "name": "stdout",
     "output_type": "stream",
     "text": [
      "_________________________________________________________________\n",
      "Layer (type)                 Output Shape              Param #   \n",
      "=================================================================\n",
      "conv2d_1 (Conv2D)            (None, 100, 100, 16)      208       \n",
      "_________________________________________________________________\n",
      "max_pooling2d_1 (MaxPooling2 (None, 50, 50, 16)        0         \n",
      "_________________________________________________________________\n",
      "conv2d_2 (Conv2D)            (None, 50, 50, 32)        2080      \n",
      "_________________________________________________________________\n",
      "max_pooling2d_2 (MaxPooling2 (None, 25, 25, 32)        0         \n",
      "_________________________________________________________________\n",
      "conv2d_3 (Conv2D)            (None, 25, 25, 64)        8256      \n",
      "_________________________________________________________________\n",
      "max_pooling2d_3 (MaxPooling2 (None, 12, 12, 64)        0         \n",
      "_________________________________________________________________\n",
      "flatten_1 (Flatten)          (None, 9216)              0         \n",
      "_________________________________________________________________\n",
      "dense_1 (Dense)              (None, 500)               4608500   \n",
      "_________________________________________________________________\n",
      "dropout_1 (Dropout)          (None, 500)               0         \n",
      "_________________________________________________________________\n",
      "dense_2 (Dense)              (None, 5004)              2507004   \n",
      "=================================================================\n",
      "Total params: 7,126,048\n",
      "Trainable params: 7,126,048\n",
      "Non-trainable params: 0\n",
      "_________________________________________________________________\n"
     ]
    }
   ],
   "source": [
    "# build basic model\n",
    "# (similar to one described in Lesson 2.18 in Deep Learning section of ML Nanodegree)\n",
    "\n",
    "model = Sequential()\n",
    "model.add(Conv2D(filters=16, kernel_size=2, padding='same', activation='relu',\n",
    "                       input_shape=(tensors_train.shape[1], tensors_train.shape[2], 3)))\n",
    "model.add(MaxPooling2D(pool_size=2))\n",
    "model.add(Conv2D(filters=32, kernel_size=2, padding='same', activation='relu'))\n",
    "model.add(MaxPooling2D(pool_size=2))\n",
    "model.add(Conv2D(filters=64, kernel_size=2, padding='same', activation='relu'))\n",
    "model.add(MaxPooling2D(pool_size=2))\n",
    "model.add(Flatten())\n",
    "model.add(Dense(500, activation='relu'))\n",
    "model.add(Dropout(0.3))\n",
    "model.add(Dense(tensors_train_labels.shape[1], activation='softmax'))\n",
    "\n",
    "model.compile(loss='categorical_crossentropy', optimizer=\"adam\", metrics=['accuracy'])\n",
    "model.summary()"
   ]
  },
  {
   "cell_type": "code",
   "execution_count": 7,
   "metadata": {},
   "outputs": [
    {
     "name": "stdout",
     "output_type": "stream",
     "text": [
      "Train on 14127 samples, validate on 1570 samples\n",
      "Epoch 1/10\n",
      "14127/14127 [==============================] - 87s 6ms/step - loss: 8.2784 - acc: 0.0045 - val_loss: 8.1343 - val_acc: 0.0051\n",
      "\n",
      "Epoch 00001: val_loss improved from inf to 8.13425, saving model to saved_models/weights.model_1.h5\n",
      "Epoch 2/10\n",
      "14127/14127 [==============================] - 86s 6ms/step - loss: 7.8166 - acc: 0.0105 - val_loss: 8.1163 - val_acc: 0.0127\n",
      "\n",
      "Epoch 00002: val_loss improved from 8.13425 to 8.11627, saving model to saved_models/weights.model_1.h5\n",
      "Epoch 3/10\n",
      "14127/14127 [==============================] - 85s 6ms/step - loss: 7.3673 - acc: 0.0175 - val_loss: 8.0780 - val_acc: 0.0287\n",
      "\n",
      "Epoch 00003: val_loss improved from 8.11627 to 8.07798, saving model to saved_models/weights.model_1.h5\n",
      "Epoch 4/10\n",
      "14127/14127 [==============================] - 86s 6ms/step - loss: 6.7811 - acc: 0.0317 - val_loss: 8.4327 - val_acc: 0.0344\n",
      "\n",
      "Epoch 00004: val_loss did not improve from 8.07798\n",
      "Epoch 5/10\n",
      "14127/14127 [==============================] - 86s 6ms/step - loss: 5.9954 - acc: 0.0648 - val_loss: 8.7607 - val_acc: 0.0389\n",
      "\n",
      "Epoch 00005: val_loss did not improve from 8.07798\n",
      "Epoch 6/10\n",
      "14127/14127 [==============================] - 88s 6ms/step - loss: 4.9795 - acc: 0.1367 - val_loss: 9.5630 - val_acc: 0.0350\n",
      "\n",
      "Epoch 00006: val_loss did not improve from 8.07798\n",
      "Epoch 7/10\n",
      "14127/14127 [==============================] - 86s 6ms/step - loss: 3.7825 - acc: 0.2654 - val_loss: 10.1420 - val_acc: 0.0338\n",
      "\n",
      "Epoch 00007: val_loss did not improve from 8.07798\n",
      "Epoch 8/10\n",
      "14127/14127 [==============================] - 86s 6ms/step - loss: 2.6575 - acc: 0.4351 - val_loss: 10.8930 - val_acc: 0.0382\n",
      "\n",
      "Epoch 00008: val_loss did not improve from 8.07798\n",
      "Epoch 9/10\n",
      "14127/14127 [==============================] - 86s 6ms/step - loss: 1.7864 - acc: 0.5928 - val_loss: 11.2328 - val_acc: 0.0350\n",
      "\n",
      "Epoch 00009: val_loss did not improve from 8.07798\n",
      "Epoch 10/10\n",
      "14127/14127 [==============================] - 89s 6ms/step - loss: 1.1776 - acc: 0.7167 - val_loss: 11.8600 - val_acc: 0.0357\n",
      "\n",
      "Epoch 00010: val_loss did not improve from 8.07798\n"
     ]
    }
   ],
   "source": [
    "# train the model\n",
    "EPOCHS = 10\n",
    "BATCH_SIZE = 16\n",
    "checkpointer = ModelCheckpoint(filepath='saved_models/weights.model_1.h5', verbose=1, save_best_only=True)\n",
    "history = model.fit(\n",
    "        x=tensors_train,\n",
    "        y=tensors_train_labels,\n",
    "        batch_size=BATCH_SIZE,\n",
    "        epochs=EPOCHS,\n",
    "        callbacks=[checkpointer],\n",
    "        validation_split=0.1,\n",
    "        verbose=1)"
   ]
  },
  {
   "cell_type": "code",
   "execution_count": 8,
   "metadata": {},
   "outputs": [],
   "source": [
    "# load best weights\n",
    "model.load_weights('saved_models/weights.model_1.h5')"
   ]
  },
  {
   "cell_type": "code",
   "execution_count": 12,
   "metadata": {},
   "outputs": [
    {
     "name": "stdout",
     "output_type": "stream",
     "text": [
      "           Image\n",
      "0  21253f840.jpg\n",
      "1  769f8d32b.jpg\n",
      "2  a69dc856e.jpg\n",
      "7960\n"
     ]
    }
   ],
   "source": [
    "# load test files into dataframe\n",
    "filelist = os.listdir('test')\n",
    "testdf = pd.DataFrame(filelist, columns=['Image'])\n",
    "print(testdf.head(3))\n",
    "print(len(testdf))"
   ]
  },
  {
   "cell_type": "code",
   "execution_count": null,
   "metadata": {},
   "outputs": [],
   "source": [
    "# create tensors for test images and save on disk\n",
    "tensors_test = imgs_to_tensors(df=testdf, path='test')/255\n",
    "np.save('tensors/model_1/tensors_test', tensors_test)\n",
    "print(tensors_test.shape)"
   ]
  },
  {
   "cell_type": "code",
   "execution_count": 9,
   "metadata": {},
   "outputs": [],
   "source": [
    "# load previously saved test tensors, if any\n",
    "tensors_test = np.load('tensors/model_1/tensors_test.npy')"
   ]
  },
  {
   "cell_type": "code",
   "execution_count": 10,
   "metadata": {},
   "outputs": [
    {
     "name": "stdout",
     "output_type": "stream",
     "text": [
      "7960/7960 [==============================] - 9s 1ms/step\n"
     ]
    }
   ],
   "source": [
    "# make predictions\n",
    "predictions = model.predict(tensors_test, verbose=1)"
   ]
  },
  {
   "cell_type": "code",
   "execution_count": 15,
   "metadata": {},
   "outputs": [
    {
     "name": "stdout",
     "output_type": "stream",
     "text": [
      "           Image                                                 Id\n",
      "0  21253f840.jpg  new_whale w_23a388d w_9b5109b w_a9304b9 w_f0fe284\n",
      "1  769f8d32b.jpg  new_whale w_2b069ba w_f765256 w_9c506f6 w_6cda039\n",
      "2  a69dc856e.jpg  new_whale w_2b069ba w_9c506f6 w_6cda039 w_f765256\n",
      "3  79bee536e.jpg  new_whale w_2b069ba w_9c506f6 w_5e8e218 w_fd3e556\n",
      "4  7eb9a6f1b.jpg  new_whale w_d405854 w_0fdf741 w_789c969 w_eba33fb\n"
     ]
    }
   ],
   "source": [
    "# get 5 best predictions per image and decode to whale ids\n",
    "# insert \"new_whale\" where prediction probability drops below 10% \n",
    "testdf['Id'] = ''\n",
    "for i, pred in enumerate(predictions):\n",
    "    inx = np.argsort(pred)[-5:][::-1].tolist()\n",
    "    preds = labels[inx].tolist()\n",
    "    probs = pred[inx]\n",
    "    try:\n",
    "        # get index of first prediction with prob less than 10%\n",
    "        j = (probs < 0.1).tolist().index(True)\n",
    "        # enter \"new_whale\" in that index, and shift any remaining preds to right\n",
    "        for ii in range(4, (j-1), -1):\n",
    "            if ii==j:\n",
    "                preds[ii] = 'new_whale'\n",
    "            else:\n",
    "                preds[ii] = preds[ii-1]\n",
    "    except ValueError:\n",
    "        pass\n",
    "    testdf.loc[i,'Id'] = ' '.join(preds)\n",
    "print(testdf.head())"
   ]
  },
  {
   "cell_type": "code",
   "execution_count": 16,
   "metadata": {},
   "outputs": [],
   "source": [
    "# write to file and submit to Kaggle\n",
    "testdf.to_csv('submissions/submit_0118_03.txt', index=False)"
   ]
  },
  {
   "cell_type": "markdown",
   "metadata": {},
   "source": [
    "This submission scored 0.281 in Kaggle, ranking me 1011 out of 1335 (76 percentile):\n",
    "\n",
    "![title](submissions/screenshots/submit_0118_03.png)"
   ]
  },
  {
   "cell_type": "code",
   "execution_count": null,
   "metadata": {},
   "outputs": [],
   "source": []
  }
 ],
 "metadata": {
  "kernelspec": {
   "display_name": "Python 3",
   "language": "python",
   "name": "python3"
  },
  "language_info": {
   "codemirror_mode": {
    "name": "ipython",
    "version": 3
   },
   "file_extension": ".py",
   "mimetype": "text/x-python",
   "name": "python",
   "nbconvert_exporter": "python",
   "pygments_lexer": "ipython3",
   "version": "3.6.7"
  }
 },
 "nbformat": 4,
 "nbformat_minor": 2
}
